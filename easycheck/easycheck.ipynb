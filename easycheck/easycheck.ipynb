{
 "cells": [
  {
   "cell_type": "code",
   "execution_count": 42,
   "id": "79f18e2f",
   "metadata": {},
   "outputs": [],
   "source": [
    "import numpy as np\n",
    "from astropy.table import Table, vstack, Column, hstack\n",
    "from astropy.coordinates import SkyCoord\n",
    "from astropy.io import fits\n",
    "import astropy.units as u\n",
    "import numpy.random as rd\n",
    "import matplotlib.pyplot as plt\n",
    "from astropy.cosmology import FlatLambdaCDM\n",
    "from scipy.special import gamma, gammaincc\n",
    "from statsmodels.stats.weightstats import DescrStatsW\n",
    "from astropy.constants import c, G, M_sun\n",
    "from matplotlib.ticker import StrMethodFormatter, MultipleLocator, NullLocator, FixedLocator\n",
    "import matplotlib.patches as mpatches\n",
    "from matplotlib.patches import PathPatch\n",
    "from matplotlib.path import Path\n",
    "from scipy.stats import ks_2samp\n",
    "from matplotlib.legend_handler import HandlerLineCollection, HandlerTuple\n",
    "from astropy.io import fits\n",
    "from scipy.optimize import curve_fit\n",
    "import math,random\n",
    "import seaborn as sns\n",
    "\n",
    "cos = FlatLambdaCDM(H0=100, Om0=0.27)"
   ]
  },
  {
   "cell_type": "code",
   "execution_count": 5,
   "id": "894d87a9",
   "metadata": {},
   "outputs": [
    {
     "name": "stderr",
     "output_type": "stream",
     "text": [
      "/var/folders/8k/p6qnzbn934jd2z75vwrs1j2h0000gn/T/ipykernel_49251/1634982063.py:5: RuntimeWarning: invalid value encountered in log10\n",
      "  ima['rmag'] = 22.5 - 2.5*np.log10(ima['PETROFLUX'].T[2]) - ima['EXTINCTION'].T[2]\n"
     ]
    }
   ],
   "source": [
    "# VAGC Image Data: http://sdss.physics.nyu.edu/vagc-dr7/vagc2/\n",
    "ima = Table.read('../object_sdss_imaging.fits')\n",
    "ima = ima['RA','DEC','PETROFLUX','EXTINCTION']\n",
    "imt = SkyCoord(ima['RA'], ima['DEC'], unit=(u.deg, u.deg))\n",
    "ima['rmag'] = 22.5 - 2.5*np.log10(ima['PETROFLUX'].T[2]) - ima['EXTINCTION'].T[2]"
   ]
  },
  {
   "cell_type": "code",
   "execution_count": 6,
   "id": "63628c1a",
   "metadata": {},
   "outputs": [],
   "source": [
    "# Smallest Enclosed Circle: https://www.nayuki.io/page/smallest-enclosing-circle\n",
    "def make_circle(points):\n",
    "    shuffled = [(float(p[0]), float(p[1])) for p in points]\n",
    "    random.shuffle(shuffled)\n",
    "    c = None\n",
    "    for (i, p) in enumerate(shuffled):\n",
    "        if c is None or not _is_in_circle(c, p):\n",
    "            c = _make_circle_one_point(shuffled[0 : i + 1], p)\n",
    "    return c\n",
    "\n",
    "def _make_circle_one_point(points, p):\n",
    "    c = (p[0], p[1], 0.0)\n",
    "    for (i, q) in enumerate(points):\n",
    "        if not _is_in_circle(c, q):\n",
    "            if c[2] == 0.0:\n",
    "                c = _make_diameter(p, q)\n",
    "            else:\n",
    "                c = _make_circle_two_points(points[0 : i + 1], p, q)\n",
    "    return c\n",
    "\n",
    "def _make_circle_two_points(points, p, q):\n",
    "    diameter = _make_diameter(p, q)\n",
    "    if all(_is_in_circle(diameter, r) for r in points):\n",
    "        return diameter\n",
    "    left = None\n",
    "    right = None\n",
    "    for r in points:\n",
    "        cross = _cross_product(p[0], p[1], q[0], q[1], r[0], r[1])\n",
    "        c = _make_circumcircle(p, q, r)\n",
    "        if c is None:\n",
    "            continue\n",
    "        elif cross > 0.0 and (left is None or _cross_product(p[0], p[1], q[0], q[1], c[0], c[1]) > _cross_product(p[0], p[1], q[0], q[1], left[0], left[1])):\n",
    "            left = c\n",
    "        elif cross < 0.0 and (right is None or _cross_product(p[0], p[1], q[0], q[1], c[0], c[1]) < _cross_product(p[0], p[1], q[0], q[1], right[0], right[1])):\n",
    "            right = c\n",
    "    return left if (right is None or (left is not None and left[2] <= right[2])) else right\n",
    "\n",
    "def _make_circumcircle(p0, p1, p2):\n",
    "    ax = p0[0]; ay = p0[1]\n",
    "    bx = p1[0]; by = p1[1]\n",
    "    cx = p2[0]; cy = p2[1]\n",
    "    d = (ax * (by - cy) + bx * (cy - ay) + cx * (ay - by)) * 2.0\n",
    "    if d == 0.0:\n",
    "        return None\n",
    "    x = ((ax * ax + ay * ay) * (by - cy) + (bx * bx + by * by) * (cy - ay) + (cx * cx + cy * cy) * (ay - by)) / d\n",
    "    y = ((ax * ax + ay * ay) * (cx - bx) + (bx * bx + by * by) * (ax - cx) + (cx * cx + cy * cy) * (bx - ax)) / d\n",
    "    return (x, y, math.hypot(x - ax, y - ay))\n",
    "\n",
    "def _make_diameter(p0, p1):\n",
    "    return ((p0[0] + p1[0])/2.0, (p0[1] + p1[1]) / 2.0, math.hypot(p0[0] - p1[0], p0[1] - p1[1]) / 2.0)\n",
    "\n",
    "_EPSILON = 1e-12\n",
    "\n",
    "def _is_in_circle(c, p):\n",
    "    return c is not None and math.hypot(p[0] - c[0], p[1] - c[1]) < c[2] + _EPSILON\n",
    "\n",
    "def _cross_product(x0, y0, x1, y1, x2, y2):\n",
    "    return (x1 - x0) * (y2 - y0) - (y1 - y0) * (x2 - x0)\n",
    "\n",
    "def trans_coord(RA, DEC):\n",
    "    RAn = RA - RA[0]\n",
    "    if max(RAn) - min(RAn) > 358:\n",
    "        RAn = (RA + 180) % 360 - (RA[0] + 180) % 360\n",
    "    DECn = DEC\n",
    "    theta = (90 - DEC)*np.pi/180.0\n",
    "    thetatemp = np.arccos(np.cos(theta)*np.cos(-theta[0]) - np.sin(theta)*np.cos(RAn*np.pi/180.0)*np.sin(-theta[0]) - 1e-15)\n",
    "    phitemp = np.arccos((np.cos(theta)*np.sin(-theta[0]) + np.sin(theta)*np.cos(RAn*np.pi/180.0)*np.cos(-theta[0]))/(np.sin(thetatemp)+1e-30)) * RAn/(abs(RAn)+1e-30)\n",
    "    projX = thetatemp*np.cos(phitemp)\n",
    "    projY = thetatemp*np.sin(phitemp)\n",
    "    point = []\n",
    "    for j in range(len(RA)):\n",
    "        point.append([projX[j],projY[j]])\n",
    "    return point,RA[0],DEC[0]\n",
    "\n",
    "def trans_back(x, y, RA0, DEC0):\n",
    "    theta0 = (90 - DEC0)*np.pi/180.0\n",
    "    centerthetatemp = np.sqrt(x**2 + y**2)\n",
    "    centerphitemp = np.arccos(x/centerthetatemp)\n",
    "    center_theta = np.arccos(- 1e-15 + np.cos(centerthetatemp)*np.cos(-theta0) + np.sin(centerthetatemp)*np.cos(centerphitemp)*np.sin(-theta0))\n",
    "    center_phi = np.arccos(- 1e-15 + (- np.cos(centerthetatemp)*np.sin(-theta0) + np.sin(centerthetatemp)*np.cos(centerphitemp)*np.cos(-theta0))/(np.sin(center_theta)+1e-30)) * y/(abs(y)+1e-30)\n",
    "    center_dec = 90 - center_theta*180.0/np.pi\n",
    "    center_ra = (center_phi*180.0/np.pi + RA0)%360\n",
    "    return center_ra,center_dec\n",
    "\n",
    "def lumweighted_coord(RA, DEC, LW):\n",
    "    xl = np.cos(RA/180.*np.pi)*np.sin(np.pi/2-DEC/180.*np.pi)\n",
    "    yl = np.sin(RA/180.*np.pi)*np.sin(np.pi/2-DEC/180.*np.pi)\n",
    "    zl = np.cos(np.pi/2-DEC/180.*np.pi)\n",
    "    xlweightedmean = np.average(xl,weights=LW)\n",
    "    ylweightedmean = np.average(yl,weights=LW)\n",
    "    zlweightedmean = np.average(zl,weights=LW)\n",
    "    rsqmean = np.sqrt(xlweightedmean**2+ylweightedmean**2+zlweightedmean**2)\n",
    "    adec = 90. - np.arccos(zlweightedmean/rsqmean)*180./np.pi\n",
    "    if ylweightedmean > 0:\n",
    "        ara = np.arccos(xlweightedmean/(rsqmean*np.sin(np.pi/2-adec/180.*np.pi)))*180./np.pi\n",
    "    else:\n",
    "        ara = 360 - np.arccos(xlweightedmean/(rsqmean*np.sin(np.pi/2-adec/180.*np.pi)))*180./np.pi\n",
    "    return ara,adec\n",
    "\n",
    "def gapper_estimate(tableZ, redshift_col, Verr_col):\n",
    "    tableZ.sort(redshift_col)\n",
    "    mem = len(tableZ)\n",
    "    ztemp = np.mean(tableZ[redshift_col])\n",
    "    dis = 0\n",
    "    for j in range(mem-1):\n",
    "        dis += (j+1)*(mem-j-1)*c.to('km/s').value*(tableZ[redshift_col][j+1]-tableZ[redshift_col][j])\n",
    "    disV = np.sqrt(np.pi)/((1+ztemp)*mem*(mem-1))*dis\n",
    "    D_i = 2*np.arange(1,mem+1,1)-(mem+1)\n",
    "    diff_LOS = np.sqrt(np.pi)*c.to('km/s').value/(mem-1)*(-D_i*tableZ[redshift_col]/((np.sum(tableZ[redshift_col])+mem)**2)+D_i/(np.sum(tableZ[redshift_col])+mem))\n",
    "    err_sq = np.sum((tableZ[Verr_col])**2)/mem\n",
    "    return disV, np.sqrt(err_sq)\n",
    "\n",
    "def surface_brightness(mag, R):\n",
    "    rdel = 18 - np.array(mag)\n",
    "    lumsig = np.power(10, rdel/2.5)\n",
    "    lumtemp = np.sum(lumsig)\n",
    "    surface = 18 - 2.5*math.log(lumtemp, 10) + 2.5*math.log(np.pi*3600*3600*(R + 1e-30)*(R + 1e-30), 10)\n",
    "    return surface"
   ]
  },
  {
   "cell_type": "code",
   "execution_count": 9,
   "id": "b1d8eff7",
   "metadata": {},
   "outputs": [],
   "source": [
    "grp_V1 = fits.open('../CGsV1.fits')\n",
    "ccgg1 = Table(grp_V1[1].data)\n",
    "pcgg1 = Table(grp_V1[2].data)\n",
    "ccgg2 = Table.read('../cCGsV2.fits')"
   ]
  },
  {
   "cell_type": "code",
   "execution_count": 11,
   "id": "8d9e295f",
   "metadata": {},
   "outputs": [],
   "source": [
    "mem_V1 = fits.open('../cg_m_V1.fits')\n",
    "ccgm1 = Table(mem_V1[1].data)\n",
    "pcgm1 = Table(mem_V1[2].data)\n",
    "ccgm2 = Table.read('../ccgs_m_V2.fits')"
   ]
  },
  {
   "cell_type": "code",
   "execution_count": 12,
   "id": "3f3fcdb8",
   "metadata": {},
   "outputs": [],
   "source": [
    "ccgm1t = SkyCoord(ccgm1['RAJ2000'], ccgm1['DEJ2000'], unit=(u.deg, u.deg))\n",
    "ccgm2t = SkyCoord(ccgm2['R.A.'], ccgm2['Dec.'], unit=(u.deg, u.deg))\n",
    "pcgm1t = SkyCoord(pcgm1['RAJ2000'], pcgm1['DEJ2000'], unit=(u.deg, u.deg))"
   ]
  },
  {
   "cell_type": "code",
   "execution_count": 14,
   "id": "f708c0a0",
   "metadata": {},
   "outputs": [],
   "source": [
    "idxc1, d2dc1, d3dc1 = ccgm1t.match_to_catalog_sky(imt)\n",
    "idxc2, d2dc2, d3dc2 = ccgm2t.match_to_catalog_sky(imt)\n",
    "idxp1, d2dp1, d3dp1 = pcgm1t.match_to_catalog_sky(imt)"
   ]
  },
  {
   "cell_type": "markdown",
   "id": "91e146cc",
   "metadata": {},
   "source": [
    "# Basic Check"
   ]
  },
  {
   "cell_type": "code",
   "execution_count": 16,
   "id": "0f9a783c",
   "metadata": {},
   "outputs": [
    {
     "data": {
      "text/plain": [
       "(1.0000346, 0.9999652)"
      ]
     },
     "execution_count": 16,
     "metadata": {},
     "output_type": "execute_result"
    }
   ],
   "source": [
    "np.max(ccgm1['rmag'].data/ima['rmag'][idxc1].data), np.min(ccgm1['rmag'].data/ima['rmag'][idxc1].data),"
   ]
  },
  {
   "cell_type": "code",
   "execution_count": 15,
   "id": "d9f41744",
   "metadata": {},
   "outputs": [
    {
     "data": {
      "text/plain": [
       "(1.0000345521187708, 0.9999652195360144)"
      ]
     },
     "execution_count": 15,
     "metadata": {},
     "output_type": "execute_result"
    }
   ],
   "source": [
    "np.max(ccgm2['rmag'].data/ima['rmag'][idxc2].data), np.min(ccgm2['rmag'].data/ima['rmag'][idxc2].data),"
   ]
  },
  {
   "cell_type": "code",
   "execution_count": 17,
   "id": "5d1c65e3",
   "metadata": {},
   "outputs": [
    {
     "data": {
      "text/plain": [
       "(1.0000349, 0.99996465)"
      ]
     },
     "execution_count": 17,
     "metadata": {},
     "output_type": "execute_result"
    }
   ],
   "source": [
    "np.max(pcgm1['rmag'].data/ima['rmag'][idxp1].data), np.min(pcgm1['rmag'].data/ima['rmag'][idxp1].data), "
   ]
  },
  {
   "cell_type": "code",
   "execution_count": null,
   "id": "5f460478",
   "metadata": {},
   "outputs": [],
   "source": []
  },
  {
   "cell_type": "code",
   "execution_count": 18,
   "id": "a69d40ed",
   "metadata": {},
   "outputs": [],
   "source": [
    "ccgg1['mu_check'] = np.zeros(len(ccgg1))\n",
    "ccgg2['mu_check'] = np.zeros(len(ccgg2))\n",
    "pcgg1['mu_check'] = np.zeros(len(pcgg1))"
   ]
  },
  {
   "cell_type": "code",
   "execution_count": 19,
   "id": "8ebfd90b",
   "metadata": {},
   "outputs": [],
   "source": [
    "for i in range(len(ccgg1)):\n",
    "    gid = ccgg1['ID'][i]\n",
    "    mid = np.where(ccgm1['ID']==gid)[0]\n",
    "    RA, DEC = ima['RA'][idxc1[mid]].data, ima['DEC'][idxc1[mid]].data\n",
    "    mags = ima['rmag'][idxc1[mid]].data\n",
    "    point,RA0,DEC0 = trans_coord(RA, DEC)\n",
    "    x,y,r = make_circle(point)\n",
    "    center_ra,center_dec = trans_back(x, y, RA0, DEC0)\n",
    "    R = r*180/np.pi\n",
    "    ccgg1['mu_check'][i] = surface_brightness(mags, R)"
   ]
  },
  {
   "cell_type": "code",
   "execution_count": 20,
   "id": "128d4fdc",
   "metadata": {},
   "outputs": [],
   "source": [
    "for i in range(len(ccgg2)):\n",
    "    gid = ccgg2['Group_ID'][i]\n",
    "    mid = np.where(ccgm2['Group_ID']==gid)[0]\n",
    "    RA, DEC = ima['RA'][idxc2[mid]].data, ima['DEC'][idxc2[mid]].data\n",
    "    mags = ima['rmag'][idxc2[mid]].data\n",
    "    point,RA0,DEC0 = trans_coord(RA, DEC)\n",
    "    x,y,r = make_circle(point)\n",
    "    center_ra,center_dec = trans_back(x, y, RA0, DEC0)\n",
    "    R = r*180/np.pi\n",
    "    ccgg2['mu_check'][i] = surface_brightness(mags, R)"
   ]
  },
  {
   "cell_type": "code",
   "execution_count": 25,
   "id": "90f790c7",
   "metadata": {},
   "outputs": [
    {
     "data": {
      "text/plain": [
       "(1.0015232635914706, 0.9870027919008604, 2)"
      ]
     },
     "execution_count": 25,
     "metadata": {},
     "output_type": "execute_result"
    }
   ],
   "source": [
    "np.max(ccgg1['mu_check']/ccgg1['mu']), np.min(ccgg1['mu_check']/ccgg1['mu']), np.sum(ccgg1['mu_check']/ccgg1['mu']<0.998)"
   ]
  },
  {
   "cell_type": "code",
   "execution_count": 27,
   "id": "bc05b995",
   "metadata": {},
   "outputs": [
    {
     "data": {
      "text/html": [
       "<div><i>Table length=2</i>\n",
       "<table id=\"table140658083614880\" class=\"table-striped table-bordered table-condensed\">\n",
       "<thead><tr><th>recno</th><th>ID</th><th>Nb</th><th>RAJ2000</th><th>DEJ2000</th><th>N</th><th>zg</th><th>Rad</th><th>mu</th><th>sig</th><th>Delm3</th><th>mu_check</th></tr></thead>\n",
       "<thead><tr><th>int32</th><th>str9</th><th>int16</th><th>float64</th><th>float64</th><th>uint8</th><th>float32</th><th>float32</th><th>float32</th><th>float32</th><th>float32</th><th>float64</th></tr></thead>\n",
       "<tr><td>6088</td><td>cCGs-6088</td><td>0</td><td>210.92929999999998</td><td>8.7892</td><td>3</td><td>0.11583</td><td>0.665</td><td>25.338</td><td>753.995</td><td>1.0</td><td>25.08433851894757</td></tr>\n",
       "<tr><td>6094</td><td>cCGs-6094</td><td>0</td><td>237.64869999999996</td><td>26.305499999999995</td><td>3</td><td>0.14597</td><td>0.27</td><td>22.541</td><td>327.208</td><td>1.0</td><td>22.24803029368851</td></tr>\n",
       "</table></div>"
      ],
      "text/plain": [
       "<Table length=2>\n",
       "recno     ID      Nb       RAJ2000            DEJ2000         N      zg     Rad      mu     sig    Delm3       mu_check    \n",
       "int32    str9   int16      float64            float64       uint8 float32 float32 float32 float32 float32      float64     \n",
       "----- --------- ----- ------------------ ------------------ ----- ------- ------- ------- ------- ------- -----------------\n",
       " 6088 cCGs-6088     0 210.92929999999998             8.7892     3 0.11583   0.665  25.338 753.995     1.0 25.08433851894757\n",
       " 6094 cCGs-6094     0 237.64869999999996 26.305499999999995     3 0.14597    0.27  22.541 327.208     1.0 22.24803029368851"
      ]
     },
     "execution_count": 27,
     "metadata": {},
     "output_type": "execute_result"
    }
   ],
   "source": [
    "ccgg1[ccgg1['mu_check']/ccgg1['mu']<0.998]"
   ]
  },
  {
   "cell_type": "raw",
   "id": "b0e2039f",
   "metadata": {},
   "source": [
    "The miscalculation for the above two groups in V1 catalog might come from the removing of the candidate members due to the update of LAMOST redshifts. In V2 catalog, we fix it."
   ]
  },
  {
   "cell_type": "code",
   "execution_count": 28,
   "id": "c7cecd7c",
   "metadata": {},
   "outputs": [
    {
     "data": {
      "text/plain": [
       "(1.0015232450736145, 0.9986156334442018)"
      ]
     },
     "execution_count": 28,
     "metadata": {},
     "output_type": "execute_result"
    }
   ],
   "source": [
    "np.max(ccgg2['mu_check']/ccgg2['mu']), np.min(ccgg2['mu_check']/ccgg2['mu'])"
   ]
  },
  {
   "cell_type": "code",
   "execution_count": 31,
   "id": "a829615d",
   "metadata": {},
   "outputs": [
    {
     "data": {
      "text/html": [
       "<div><i>Table length=2</i>\n",
       "<table id=\"table140658083676064\" class=\"table-striped table-bordered table-condensed\">\n",
       "<thead><tr><th>Group_ID</th><th>RAJ2000</th><th>DEJ2000</th><th>N</th><th>N+b</th><th>zg</th><th>Rad</th><th>mu</th><th>sig_gap</th><th>sig_LOS</th><th>Delm3</th><th>CrCase</th><th>CrY07PetroC</th><th>borders</th><th>Mdyn</th><th>e_Mdyn</th><th>e_sig</th><th>CrL195</th><th>Crsig_gap</th><th>Crsig_LOS</th><th>Cre_sig</th><th>Lcorr</th><th>L195</th><th>mu_check</th></tr></thead>\n",
       "<thead><tr><th>bytes21</th><th>float64</th><th>float64</th><th>int64</th><th>int64</th><th>float64</th><th>float64</th><th>float64</th><th>float64</th><th>float64</th><th>float64</th><th>bytes21</th><th>int64</th><th>float64</th><th>float64</th><th>float64</th><th>float64</th><th>float64</th><th>float64</th><th>float64</th><th>float64</th><th>float64</th><th>float64</th><th>float64</th></tr></thead>\n",
       "<tr><td>cCGs-6088</td><td>210.9307</td><td>8.8077</td><td>3</td><td>3</td><td>0.11583</td><td>0.592</td><td>25.085</td><td>753.995</td><td>924.631</td><td>1.0</td><td>multiple</td><td>-99</td><td>2.0</td><td>13.587</td><td>0.52</td><td>0.26</td><td>0.0</td><td>0.0</td><td>0.0</td><td>0.0</td><td>10.679</td><td>0.0</td><td>25.08433851894757</td></tr>\n",
       "<tr><td>cCGs-6094</td><td>237.6487</td><td>26.3061</td><td>3</td><td>3</td><td>0.14597</td><td>0.235</td><td>22.248</td><td>327.67</td><td>390.046</td><td>1.0</td><td>predominant</td><td>11206</td><td>2.0</td><td>0.0</td><td>0.0</td><td>0.26</td><td>11.498</td><td>0.0</td><td>0.0</td><td>0.0</td><td>11.285</td><td>0.0</td><td>22.24803029368851</td></tr>\n",
       "</table></div>"
      ],
      "text/plain": [
       "<Table length=2>\n",
       " Group_ID RAJ2000  DEJ2000   N    N+b     zg     Rad   ...  CrL195 Crsig_gap Crsig_LOS Cre_sig  Lcorr    L195       mu_check    \n",
       " bytes21  float64  float64 int64 int64 float64 float64 ... float64  float64   float64  float64 float64 float64      float64     \n",
       "--------- -------- ------- ----- ----- ------- ------- ... ------- --------- --------- ------- ------- ------- -----------------\n",
       "cCGs-6088 210.9307  8.8077     3     3 0.11583   0.592 ...     0.0       0.0       0.0     0.0  10.679     0.0 25.08433851894757\n",
       "cCGs-6094 237.6487 26.3061     3     3 0.14597   0.235 ...  11.498       0.0       0.0     0.0  11.285     0.0 22.24803029368851"
      ]
     },
     "execution_count": 31,
     "metadata": {},
     "output_type": "execute_result"
    }
   ],
   "source": [
    "ccgg2[(ccgg2['Group_ID']=='cCGs-6088')|(ccgg2['Group_ID']=='cCGs-6094')]"
   ]
  },
  {
   "cell_type": "code",
   "execution_count": null,
   "id": "2601f072",
   "metadata": {},
   "outputs": [],
   "source": []
  },
  {
   "cell_type": "code",
   "execution_count": 34,
   "id": "0ab5f0a8",
   "metadata": {},
   "outputs": [],
   "source": [
    "for i in range(len(pcgg1)):\n",
    "    gid = pcgg1['ID'][i]\n",
    "    mid = np.where((pcgm1['ID']==gid)&(pcgm1['Gal']>0))[0]\n",
    "    RA, DEC = ima['RA'][idxp1[mid]].data, ima['DEC'][idxp1[mid]].data\n",
    "    mags = ima['rmag'][idxp1[mid]].data\n",
    "    point,RA0,DEC0 = trans_coord(RA, DEC)\n",
    "    x,y,r = make_circle(point)\n",
    "    center_ra,center_dec = trans_back(x, y, RA0, DEC0)\n",
    "    R = r*180/np.pi\n",
    "    pcgg1['mu_check'][i] = surface_brightness(mags, R)"
   ]
  },
  {
   "cell_type": "code",
   "execution_count": 35,
   "id": "469a3a98",
   "metadata": {},
   "outputs": [
    {
     "data": {
      "text/plain": [
       "(1.0003011603632141, 0.9998515134718171)"
      ]
     },
     "execution_count": 35,
     "metadata": {},
     "output_type": "execute_result"
    }
   ],
   "source": [
    "np.max(pcgg1['mu_check']/pcgg1['mu']), np.min(pcgg1['mu_check']/pcgg1['mu'])"
   ]
  },
  {
   "cell_type": "markdown",
   "id": "423a792b",
   "metadata": {},
   "source": [
    "# Basic Statistics"
   ]
  },
  {
   "cell_type": "code",
   "execution_count": 62,
   "id": "45d69c5e",
   "metadata": {},
   "outputs": [
    {
     "data": {
      "text/plain": [
       "(18.0, 26.0)"
      ]
     },
     "execution_count": 62,
     "metadata": {},
     "output_type": "execute_result"
    },
    {
     "data": {
      "image/png": "[encoded data removed]",
      "text/plain": [
       "<Figure size 432x288 with 1 Axes>"
      ]
     },
     "metadata": {},
     "output_type": "display_data"
    }
   ],
   "source": [
    "sns.set_theme(palette='deep',style='white')\n",
    "plt.hist(ccgg2['mu'], np.arange(16,26.1,0.2), color='r', histtype='step', lw=2, hatch='///')\n",
    "plt.hist(pcgg1['mu'], np.arange(16,26.1,0.2), color='c', histtype='stepfilled')\n",
    "plt.xlim(18,26)"
   ]
  },
  {
   "cell_type": "code",
   "execution_count": 61,
   "id": "e50365bb",
   "metadata": {},
   "outputs": [
    {
     "data": {
      "text/plain": [
       "(0.0, 0.2)"
      ]
     },
     "execution_count": 61,
     "metadata": {},
     "output_type": "execute_result"
    },
    {
     "data": {
      "image/png": "[encoded data removed]",
      "text/plain": [
       "<Figure size 432x288 with 1 Axes>"
      ]
     },
     "metadata": {},
     "output_type": "display_data"
    }
   ],
   "source": [
    "plt.hist(ccgg2['zg'], np.arange(0,0.21,0.005), color='r', histtype='step', lw=2, hatch='///')\n",
    "plt.hist(pcgg1['zg'], np.arange(0,0.21,0.005), color='c', histtype='stepfilled')\n",
    "plt.xlim(0,0.2)"
   ]
  },
  {
   "cell_type": "code",
   "execution_count": null,
   "id": "e24343c1",
   "metadata": {},
   "outputs": [],
   "source": []
  }
 ],
 "metadata": {
  "kernelspec": {
   "display_name": "Python 3 (ipykernel)",
   "language": "python",
   "name": "python3"
  },
  "language_info": {
   "codemirror_mode": {
    "name": "ipython",
    "version": 3
   },
   "file_extension": ".py",
   "mimetype": "text/x-python",
   "name": "python",
   "nbconvert_exporter": "python",
   "pygments_lexer": "ipython3",
   "version": "3.9.7"
  }
 },
 "nbformat": 4,
 "nbformat_minor": 5
}
